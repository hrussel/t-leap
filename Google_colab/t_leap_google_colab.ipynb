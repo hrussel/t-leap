{
  "nbformat": 4,
  "nbformat_minor": 0,
  "metadata": {
    "colab": {
      "provenance": [],
      "gpuType": "T4"
    },
    "kernelspec": {
      "name": "python3",
      "display_name": "Python 3"
    },
    "language_info": {
      "name": "python"
    },
    "accelerator": "GPU",
    "gpuClass": "standard"
  },
  "cells": [
    {
      "cell_type": "markdown",
      "source": [
        "# 0. Upload data and set runtime\n",
        "\n",
        "1. Upload your data folder to Google Drive.\n",
        "2. Make sure the runtime for this colab notebook is set to GPU.\n",
        "To do so, in the top menu, go to: Runtime -> Change runtime type.\n",
        "There, make sure to select:\n",
        "  - Runtime type: Python 3\n",
        "  - Hardware accelerator: GPU\n",
        "  --> Save\n",
        "\n",
        "\n",
        "Note: the data provided on the t-leap repo is only meant to provide an example for the structure of the data folders. We only provide two data samples for training and testing. As a result, one should not use this for actual training. The model should be run on your own data."
      ],
      "metadata": {
        "id": "rNKelbjdGgjy"
      }
    },
    {
      "cell_type": "markdown",
      "source": [
        "# 1. Clone T-LEAP repository"
      ],
      "metadata": {
        "id": "JbMSqHXwyHAU"
      }
    },
    {
      "cell_type": "code",
      "execution_count": null,
      "metadata": {
        "id": "l96llY_rblJR"
      },
      "outputs": [],
      "source": [
        "!git clone https://github.com/hrussel/t-leap"
      ]
    },
    {
      "cell_type": "markdown",
      "source": [
        "# 2. Mount Google drive"
      ],
      "metadata": {
        "id": "dg4-m8xMyOue"
      }
    },
    {
      "cell_type": "code",
      "source": [
        "from google.colab import drive\n",
        "drive.mount('/content/drive')"
      ],
      "metadata": {
        "id": "stVCLXxvbyYJ"
      },
      "execution_count": null,
      "outputs": []
    },
    {
      "cell_type": "markdown",
      "source": [
        "# 3. Train T-LEAP\n",
        "\n",
        "## 3.1 Config file\n",
        "\n",
        "Change the paths in the `colab-config.yml` so that they point to the directories in your drive. If you uploaded the `TLEAP_colab_data` to the root of your Google drive, the paths should look like this.\n",
        "\n",
        "  `data_folder: \"/content/drive/MyDrive/TLEAP_colab_data\"`\n",
        "\n",
        "  `dataset_csv: \"/content/drive/MyDrive/TLEAP_colab_data/trainingset.csv\"`\n",
        "\n",
        "  `dataset_test: \"/content/drive/MyDrive/TLEAP_colab_data/testset.csv\"`\n",
        "\n",
        "  `save_checkpoint: \"/content/drive/MyDrive/TLEAP_colab_data/\"`\n",
        "\n",
        "If you have a different folder name, or didn't upload the data to the root of your google drive, make sure that the paths point to the right locations.\n",
        "\n",
        "\n",
        "\n",
        "## 3.2 Train for one epoch\n",
        "\n",
        "To make sure that everything runs smoothly, you can first try to run the training for 1 epoch. If you don't encounter errors, proceed to a full training.\n",
        "The number of epochs can be overwritten from the config file by passing the parameter `--epochs 1`.\n",
        "\n",
        "Remember to pass the path to the config file as an argument. It should point to your config file in the Google drive, for instance:\n",
        "\n",
        "`--config \"/content/drive/MyDrive/TLEAP_colab_data/colab-config.yml\"`"
      ],
      "metadata": {
        "id": "1R_7s-q6yWBH"
      }
    },
    {
      "cell_type": "code",
      "source": [
        "# For debugging, epochs are set to 1 here\n",
        "!python t-leap/train_seq.py --config \"/content/drive/MyDrive/TLEAP_colab_data/colab-config.yml\" --epochs 1"
      ],
      "metadata": {
        "id": "dPT3-IVTeqAO"
      },
      "execution_count": null,
      "outputs": []
    },
    {
      "cell_type": "markdown",
      "source": [
        "## 3.3 Full training\n",
        "\n",
        "If the previous step worked, you can now proceed to the full training.\n",
        "\n",
        "If you want to save the validation images per n epoch, you can change the parameter `frequent` in the config file to how often you want to save the validation images  (for instance, 1 for every epoch, or 10 for every 10 epoch).  (`frequent: -1` disables saving the figures every epoch. It's faster for training."
      ],
      "metadata": {
        "id": "JbRMk3GKfXB_"
      }
    },
    {
      "cell_type": "code",
      "source": [
        "# All epochs.\n",
        "!python t-leap/train_seq.py --config \"/content/drive/MyDrive/TLEAP_colab_data/colab-config.yml\"  --epochs 100"
      ],
      "metadata": {
        "id": "XK1ptyULfGlI"
      },
      "execution_count": null,
      "outputs": []
    },
    {
      "cell_type": "markdown",
      "source": [
        "# 4. Testing\n",
        "\n",
        "The testing is done once the training is completed, but if you want more detailed results, run the script test.py and it will save a CSV file with the metrics per test image. You have to specify the path to the checkpoint with the parameter `load_checkpoint`.\n",
        "\n",
        "The checkpoints are saved in the path `save_checkpoint` in the config file.\n",
        "Browse your directory and find the latest checkpoint. The name should look similar to this: `LR_0.001000_BATCH_8_EPOCH_1_SEQ_2_May08_13-42-54.model`\n",
        "\n"
      ],
      "metadata": {
        "id": "MSdfLumFn_my"
      }
    },
    {
      "cell_type": "code",
      "source": [
        "# TODO: change checkpoint path.\n",
        "!python t-leap/test.py --config \"/content/drive/MyDrive/TLEAP_colab_data/colab-config.yml\" --load_checkpoint \"/content/drive/MyDrive/TLEAP_colab_data/LR_0.001000_BATCH_8_EPOCH_1_SEQ_2_May08_13-42-54.model\""
      ],
      "metadata": {
        "id": "sDVMB7C2mdbk"
      },
      "execution_count": null,
      "outputs": []
    }
  ]
}