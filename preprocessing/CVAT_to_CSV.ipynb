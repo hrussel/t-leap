{
 "cells": [
  {
   "cell_type": "markdown",
   "source": [
    "# Example to convert XML annotations from CVAT to a csv format\n"
   ],
   "metadata": {
    "collapsed": false,
    "pycharm": {
     "name": "#%% md\n"
    }
   }
  },
  {
   "cell_type": "code",
   "execution_count": 1,
   "outputs": [],
   "source": [
    "# Import statements\n",
    "import pandas as pd\n",
    "import numpy as np\n",
    "import os\n",
    "import xml.etree.ElementTree as ET\n",
    "import copy"
   ],
   "metadata": {
    "collapsed": false,
    "pycharm": {
     "name": "#%%\n"
    }
   }
  },
  {
   "cell_type": "markdown",
   "source": [
    "## 1. Prepare header of CSV file"
   ],
   "metadata": {
    "collapsed": false,
    "pycharm": {
     "name": "#%% md\n"
    }
   }
  },
  {
   "cell_type": "code",
   "execution_count": 5,
   "metadata": {},
   "outputs": [],
   "source": [
    "# List of the keypoints\n",
    "keypoints = ['LFHoof', 'LFAnkle', 'LFKnee', 'RFHoof', 'RFAnkle', 'RFKnee',\n",
    "             'LHHoof', 'LHAnkle', 'LHKnee', 'RHHoof', 'RHAnkle', 'RHKnee', \n",
    "             'Nose', 'HeadTop', 'Spine1', 'Spine2', 'Spine3' ]\n",
    "\n",
    "# Make header for the CSV file. Here, we have video, frame, and then 3 columns per keypoint: x,y and likelihood.\n",
    "# Note that I never used the likelihood in my research, but also never really bothered to remove it from my csv files...\n",
    "header = ['video','frame']\n",
    "for k in keypoints:\n",
    "    header.append(k+\"_x\")\n",
    "    header.append(k+\"_y\")\n",
    "    header.append(k+\"_likelihood\")"
   ]
  },
  {
   "cell_type": "markdown",
   "source": [
    "## 2. Parse the XML file"
   ],
   "metadata": {
    "collapsed": false,
    "pycharm": {
     "name": "#%% md\n"
    }
   }
  },
  {
   "cell_type": "code",
   "execution_count": 8,
   "outputs": [],
   "source": [
    "def xml_to_csv(save_path, xml_file, header):\n",
    "    \"\"\"\n",
    "    Function that parses a CVAT XML file and saves the annotations in a csv format\n",
    "    :param save_path: path of the folder where to save the csv file\n",
    "    :param xml_file: the CVAT xml file containing the annotations. It should be saved as images, and not video format (I think, it was a long time ago)\n",
    "    :param header: the header of the csv file\n",
    "    \"\"\"\n",
    "\n",
    "    # Get the parser for the CSV file\n",
    "    tree = ET.parse(xml_file)\n",
    "    root = tree.getroot()\n",
    "    video_name = root.find('meta').find('source').text\n",
    "    print(video_name)\n",
    "\n",
    "    images = root.findall('image')\n",
    "    print(len(images))\n",
    "    #Init dict\n",
    "    video_labels = {}\n",
    "    for h in header:\n",
    "        video_labels[h] = [None] * len(images) # empty list of the number of images\n",
    "\n",
    "    stop_video = False\n",
    "\n",
    "    i = -1\n",
    "    # Loop through images\n",
    "    for j, image in enumerate(images):\n",
    "\n",
    "        points = list(image)\n",
    "        if len(points) == 0:  # Get the labels of the videos\n",
    "            for h in video_labels:\n",
    "                video_labels[h].pop()\n",
    "            continue\n",
    "        i += 1\n",
    "\n",
    "        if len(points) != 17:  # If more than 17 or less than 17 keypoints then there is a problem with the labels of that frame. you need to check it in CVAT\n",
    "            print(video_name, \"frame:\", image.attrib['name'], len(points))\n",
    "            stop_video = True\n",
    "\n",
    "        video_labels['video'][i] = video_name\n",
    "        video_labels['frame'][i] = int(image.attrib['name'].split('_')[1])  #\"frame_123456\"\n",
    "#         print(video_labels['frame'][i])\n",
    "        for point in points:  # loop through the keypoints\n",
    "            bodypart = point.attrib['label']\n",
    "            xy = point.attrib['points'].split(',') # [x,y]\n",
    "            attributes = point.findall('attribute') # likelihood\n",
    "            for attr in attributes:  # you should probably comment that part if you don't use likelihood\n",
    "                if attr.attrib['name'] == 'likelihood':\n",
    "                    like = attr.text\n",
    "\n",
    "            if video_labels[bodypart+'_x'][i] != None:\n",
    "                print(bodypart, 'double keypoint', video_name, \"frame:\", image.attrib['name'], video_labels[bodypart+'_x'][i], xy[0])\n",
    "                stop_video = True\n",
    "                continue\n",
    "\n",
    "            # check if the keypoints are not too far from the ones in the neighbouring frames (wrong labels) You can comment this out\n",
    "            if i > 0 and video_labels[bodypart+'_x'][i-1] != None:\n",
    "                diff_x = np.abs(float(xy[0]) - float(video_labels[bodypart+'_x'][i-1]))\n",
    "                diff_y = np.abs(float(xy[1]) - float(video_labels[bodypart+'_y'][i-1]))\n",
    "                if diff_x >= 100:\n",
    "                    print(bodypart, 'outlier', video_name, \"frame:\", image.attrib['name'], 'x', diff_x)\n",
    "                    stop_video = True\n",
    "                    continue\n",
    "                if diff_y >= 30:\n",
    "                    print(bodypart, 'outlier', video_name, \"frame:\", image.attrib['name'], 'y', diff_y)\n",
    "                    stop_video = True\n",
    "                    continue\n",
    "\n",
    "            video_labels[bodypart+'_x'][i] = xy[0]\n",
    "            video_labels[bodypart+'_y'][i] = xy[1]\n",
    "            video_labels[bodypart+'_likelihood'][i] = like\n",
    "\n",
    "\n",
    "\n",
    "    if stop_video:\n",
    "        print('stop')\n",
    "    else:\n",
    "        df = pd.DataFrame(video_labels)\n",
    "#     df.head()\n",
    "        csv_file = video_name.split('.')[0]+'.csv'\n",
    "        print(os.path.join(save_path, csv_file))\n",
    "        df.to_csv(os.path.join(save_path, csv_file), index=False)"
   ],
   "metadata": {
    "collapsed": false,
    "pycharm": {
     "name": "#%%\n"
    }
   }
  },
  {
   "cell_type": "code",
   "execution_count": null,
   "metadata": {},
   "outputs": [],
   "source": []
  }
 ],
 "metadata": {
  "kernelspec": {
   "display_name": "Python 3",
   "language": "python",
   "name": "python3"
  },
  "language_info": {
   "codemirror_mode": {
    "name": "ipython",
    "version": 3
   },
   "file_extension": ".py",
   "mimetype": "text/x-python",
   "name": "python",
   "nbconvert_exporter": "python",
   "pygments_lexer": "ipython3",
   "version": "3.6.12"
  }
 },
 "nbformat": 4,
 "nbformat_minor": 2
}